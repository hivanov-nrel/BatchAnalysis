{
 "cells": [
  {
   "cell_type": "code",
   "execution_count": 14,
   "metadata": {},
   "outputs": [],
   "source": [
    "import pandas as pd\n",
    "import numpy as np\n",
    "import fatpack"
   ]
  },
  {
   "cell_type": "code",
   "execution_count": 15,
   "metadata": {},
   "outputs": [],
   "source": [
    "def import_fastrun(filename,elimt=None):\n",
    "    \"\"\" Import a .out fast output file in a pandas dataframe.\n",
    "    \n",
    "    INPUTS:\n",
    "    ---------\n",
    "    filename : path and filename ex. C:/example/fast.out\n",
    "\n",
    "    elimt : flag for eliminating the first X seconds of a simulation\n",
    "\n",
    "    OUTPUTS:\n",
    "    ----------\n",
    "    df : pandas dataframe of .out fast output file \"\"\"\n",
    "\n",
    "    # import file into pandas dataframe\n",
    "    dfraw = pd.read_csv(filename, sep='\\t',skiprows=5)\n",
    "    # format dataframe\n",
    "    dfraw = dfraw.drop([0]).reset_index(drop=True) # drop units\n",
    "    dfraw.columns = dfraw.columns.str.replace(' ','') # drop whitespaces in names\n",
    "    dfraw = dfraw.astype('float') # convert scientific numbers to floats\n",
    "\n",
    "    # make new dataframe & eliminate transient effects\n",
    "    if elimt==None: df = dfraw \n",
    "    else: df = dfraw[elimt:].reset_index(drop=True)\n",
    "\n",
    "    return df"
   ]
  },
  {
   "cell_type": "code",
   "execution_count": 16,
   "metadata": {},
   "outputs": [],
   "source": [
    "def get_DEL(fast_data, chan_dict, binNum=100, t=600):\n",
    "        \"\"\" Calculates the short-term damage equivalent load of multiple variables\n",
    "        \n",
    "        Parameters: \n",
    "        -----------\n",
    "        fast_data: list\n",
    "            List of dictionaries containing openfast output data (returned from ROSCO_toolbox.FAST_IO.load_output)\n",
    "        \n",
    "        chan_dict : list, tuple\n",
    "            tuple/list containing channel names to be analyzed and corresponding fatigue slope factor \"m\"\n",
    "            ie. ('TwrBsFxt',4)\n",
    "        \n",
    "        binNum : int\n",
    "            number of bins for rainflow counting method (minimum=100)\n",
    "        \n",
    "        t : float/int\n",
    "            Used to control DEL frequency. Default for 1Hz is 600 seconds for 10min data\n",
    "        \n",
    "        Outputs:\n",
    "        -----------\n",
    "        dfDEL : pd.DataFrame\n",
    "            Damage equivalent load of each specified variable for one fast output file  \n",
    "        \"\"\"\n",
    "        # check data types\n",
    "        assert isinstance(fast_data, (dict,list)), 'fast_data must be of type list'\n",
    "        assert isinstance(chan_dict, (list,tuple)), 'chan_dict must be of type list or tuple'\n",
    "        assert isinstance(binNum, (float,int)), 'binNum must be of type float or int'\n",
    "        assert isinstance(t, (float,int)), 't must be of type float or int'\n",
    "\n",
    "        # create dictionary from chan_dict\n",
    "        dic = dict(chan_dict)\n",
    "\n",
    "        # pre-allocate list\n",
    "        dflist = []\n",
    "\n",
    "        for fd in fast_data:\n",
    "            # if self.verbose:\n",
    "            #     print('Processing data for {}'.format(fd['meta']['name']))\n",
    "            dlist = [] # initiate blank list every loop\n",
    "            # loop through channels and apply corresponding fatigue slope\n",
    "            for var in dic.keys():\n",
    "                # find rainflow ranges\n",
    "                ranges = fatpack.find_rainflow_ranges(np.asarray(fd[var]))\n",
    "\n",
    "                # find range count and bin\n",
    "                Nrf, Srf = fatpack.find_range_count(ranges,binNum)\n",
    "\n",
    "                # get DEL\n",
    "                DELs = Srf**dic[var] * Nrf / t\n",
    "                DEL = DELs.sum() ** (1/dic[var])\n",
    "                dlist.append(DEL)\n",
    "            # append DEL values for each channel to master list\n",
    "            dflist.append(dlist)\n",
    "            \n",
    "            # create dataframe to return\n",
    "            dfDEL = pd.DataFrame(np.transpose(dflist))\n",
    "            dfDEL = dfDEL.T\n",
    "            dfDEL.columns = dic.keys()\n",
    "\n",
    "        return dfDEL"
   ]
  },
  {
   "cell_type": "code",
   "execution_count": 21,
   "metadata": {},
   "outputs": [],
   "source": [
    "df = import_fastrun('../test_data/Hitachi_023.out',elimt=100)\n",
    "data = [df.to_dict('list'),df.to_dict('list')]"
   ]
  },
  {
   "cell_type": "code",
   "execution_count": 22,
   "metadata": {},
   "outputs": [],
   "source": [
    "chandic = [\n",
    "    ('TwrBsMyt',3),\n",
    "    ('TwrBsMxt',3),\n",
    "    ('RootMyb1',10)\n",
    "]"
   ]
  },
  {
   "cell_type": "code",
   "execution_count": 23,
   "metadata": {},
   "outputs": [],
   "source": [
    "dfDEL = get_DEL(data,chandic)"
   ]
  },
  {
   "cell_type": "code",
   "execution_count": null,
   "metadata": {},
   "outputs": [],
   "source": []
  }
 ],
 "metadata": {
  "language_info": {
   "codemirror_mode": {
    "name": "ipython",
    "version": 3
   },
   "file_extension": ".py",
   "mimetype": "text/x-python",
   "name": "python",
   "nbconvert_exporter": "python",
   "pygments_lexer": "ipython3",
   "version": "3.7.6-final"
  },
  "orig_nbformat": 2,
  "kernelspec": {
   "name": "python37664bitwisdemcondaec1923d2414c4d9cab66414babe41f68",
   "display_name": "Python 3.7.6 64-bit ('wisdem': conda)"
  }
 },
 "nbformat": 4,
 "nbformat_minor": 2
}